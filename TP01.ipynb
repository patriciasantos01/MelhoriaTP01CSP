{
 "cells": [
  {
   "attachments": {},
   "cell_type": "markdown",
   "metadata": {},
   "source": [
    "# CONSTRAINT SATISFACTION PROBLEMS (CSP)\n",
    "Patrícia Santos | 18864 | LESIPL"
   ]
  },
  {
   "attachments": {},
   "cell_type": "markdown",
   "metadata": {},
   "source": [
    "\n",
    "## \"Get a ride to Campus\" Problem\n",
    "How to assign passengers to vehicles from home/work to Campus and from Campus to home, minimizing the number of required trips.\n",
    "* Each vehicle owner can give a ride of 1 passengers (min);\n",
    "* The vehicle owners and passengers should be assigned to one single location;\n",
    "* Passengers from distinct locations in the same path to the Campus can be assigned to the same trip;\n",
    "* Each passenger has a schedule that defines the latest hour (min) to be on Campus and earliest hour (max) to leave the Campus;\n",
    "* If we consider the tree of paths from the Campus to the locations, each main branch can be treated independently.\n",
    "\n",
    "In the case of IPCA, we could consider:\n",
    "* Locations: Amr, Braga, Gmr, Joane, PL, Prado, PV, Trofa, VC, VdC, VNF, IPCA\n",
    "* Paths: AMR-Prado-IPCA, VV-Prado-IPCA, AMR-Braga-IPCA, PL-Braga-IPCA, Gmr-Braga-IPCA, Joane-VNF-IPCA, Trofa-VNF-IPCA, VC-PV-IPCA\n",
    "* Schedules, trip to Campus: 9h, 11h, 14h\n",
    "* Schedules, trip from Campus: 13h, 16h, 18h\n",
    "\n",
    "This demo takes into account a single branch and the trips to IPCA:\n",
    "* ...\n",
    "\n",
    "New functions created for this CSP:\n",
    "* atmost_five  - returns TRUE if each vehicle is assigned to 5 or less passengers, including the driver;\n",
    "* ...\n"
   ]
  },
  {
   "cell_type": "code",
   "execution_count": 1,
   "metadata": {},
   "outputs": [],
   "source": [
    "import csp"
   ]
  },
  {
   "attachments": {},
   "cell_type": "markdown",
   "metadata": {},
   "source": [
    "## Variables\n",
    "\n",
    "Participantes:\n",
    "* Name: nome do passageiro\n",
    "* Arrival: hora de chegada\n",
    "* Departure: hora de partida\n",
    "* Capacity: capacidade do veículo\n",
    "* Fare: preço pela viagem\n",
    "* Vehicle: tem veículo ou não\n",
    "* Zone: rota\n",
    "\n",
    "\n",
    "Rotas:\n",
    "* R1 = VianaCastelo - Esposende - Prelhal \n",
    "* R2 = Famalicao \n",
    "* R3 = VilaVerde \n",
    "* R4 = Fafe - Guimarães\n",
    "* R5 = Braga - Ucha - Manhente\n",
    "\n",
    "Veículos:\n",
    "* Sabemos se existem veículos através dos dados dos participantes\n",
    "* O identificador do veículo é igual ao do número do paticipante"
   ]
  },
  {
   "cell_type": "code",
   "execution_count": 2,
   "metadata": {},
   "outputs": [],
   "source": [
    "rota_max = [1, 2, 3, 4, 5]\n",
    "participants = [{'identificador': 1, 'name': 'António', 'arrival': 8, 'departure': 17, 'capacity': 4, 'fare': 0, 'vehicle': 'Y', 'zone': 5},\n",
    "                {'identificador': 2, 'name': 'José', 'arrival': 8, 'departure': 17, 'capacity': 5, 'fare': 0, 'vehicle': 'Y', 'zone': 2},\n",
    "                {'identificador': 3, 'name': 'Maria', 'arrival': 8, 'departure': 17, 'capacity': 4, 'fare': 0, 'vehicle': 'Y', 'zone': 4},\n",
    "                {'identificador': 4, 'name': 'Rodrigo', 'arrival': 8, 'departure': 17, 'capacity': 0, 'fare': 0, 'vehicle': 'N', 'zone': 1},\n",
    "                {'identificador': 5, 'name': 'Patrícia', 'arrival': 8, 'departure': 17, 'capacity': 0, 'fare': 0, 'vehicle': 'N', 'zone': 4},\n",
    "                {'identificador': 6, 'name': 'João', 'arrival': 8, 'departure': 17, 'capacity': 0, 'fare': 0, 'vehicle': 'Y', 'zone': 5},\n",
    "                {'identificador': 7, 'name': 'Joel', 'arrival': 8, 'departure': 17, 'capacity': 4, 'fare': 0, 'vehicle': 'Y', 'zone': 1},\n",
    "                {'identificador': 8, 'name': 'André', 'arrival': 8, 'departure': 17, 'capacity': 0, 'fare': 0, 'vehicle': 'N', 'zone': 3},\n",
    "                {'identificador': 9, 'name': 'Ana', 'arrival': 8, 'departure': 17, 'capacity': 0, 'fare': 0, 'vehicle': 'N', 'zone': 1},\n",
    "                {'identificador': 10, 'name': 'Bruno', 'arrival': 8, 'departure': 17, 'capacity': 0, 'fare': 0, 'vehicle': 'N', 'zone': 1},\n",
    "                {'identificador': 11, 'name': 'Filipa', 'arrival': 8, 'departure': 17, 'capacity': 0, 'fare': 0, 'vehicle': 'N', 'zone': 5},\n",
    "                {'identificador': 12, 'name': 'Paula', 'arrival': 8, 'departure': 17, 'capacity': 0, 'fare': 0, 'vehicle': 'N', 'zone': 5},\n",
    "                {'identificador': 13, 'name': 'Amélia', 'arrival': 8, 'departure': 17, 'capacity': 0, 'fare': 0, 'vehicle': 'N', 'zone': 1},\n",
    "                {'identificador': 14, 'name': 'Gustavo', 'arrival': 8, 'departure': 17, 'capacity': 0, 'fare': 0, 'vehicle': 'N', 'zone': 1},\n",
    "                {'identificador': 15, 'name': 'Alfredo', 'arrival': 9, 'departure': 17, 'capacity': 0, 'fare': 0, 'vehicle': 'N', 'zone': 5}]"
   ]
  },
  {
   "attachments": {},
   "cell_type": "markdown",
   "metadata": {},
   "source": [
    "## Constraints\n",
    "* Cada condutor tem no máximo 1 veículo\n",
    "* Máximo de 5 passageiros por veículo e mínimo de 1\n",
    "* Um passageiro só pode fazer uma rota por viagem"
   ]
  },
  {
   "cell_type": "code",
   "execution_count": 3,
   "metadata": {},
   "outputs": [
    {
     "name": "stdout",
     "output_type": "stream",
     "text": [
      "\n",
      "Variáveis:\n",
      "\tRota ['R1', 'R2', 'R3', 'R4', 'R5']\n",
      "\tPassageiros ['P1', 'P2', 'P3', 'P4', 'P5', 'P6', 'P7', 'P8', 'P9', 'P10', 'P11', 'P12', 'P13', 'P14', 'P15', 'P1', 'P2', 'P3', 'P4', 'P5', 'P6', 'P7', 'P8', 'P9', 'P10', 'P11', 'P12', 'P13', 'P14', 'P15', 'P1', 'P2', 'P3', 'P4', 'P5', 'P6', 'P7', 'P8', 'P9', 'P10', 'P11', 'P12', 'P13', 'P14', 'P15', 'P1', 'P2', 'P3', 'P4', 'P5', 'P6', 'P7', 'P8', 'P9', 'P10', 'P11', 'P12', 'P13', 'P14', 'P15', 'P1', 'P2', 'P3', 'P4', 'P5', 'P6', 'P7', 'P8', 'P9', 'P10', 'P11', 'P12', 'P13', 'P14', 'P15']\n",
      "\tVeículos ['V7', 'V2', 'V3', 'V1', 'V6']\n",
      "--------------------------------------------------\n",
      "\n",
      "Passageiros por Rota:\n",
      "\t {'R1': ['P4', 'P7', 'P9', 'P10', 'P13', 'P14'], 'R2': ['P2'], 'R3': ['P8'], 'R4': ['P3', 'P5'], 'R5': ['P1', 'P6', 'P11', 'P12', 'P15']}\n",
      "--------------------------------------------------\n",
      "\n",
      "Solução:\n",
      "\t {'R1V7': [['P4', 'P7', 'P9', 'P10', 'P13']], 'R2V2': [['P2']], 'R4V3': [['P8']], 'R5V1': [['P3', 'P5']], 'R5V6': [['P1', 'P6', 'P11', 'P12', 'P15']]}\n",
      "--------------------------------------------------\n",
      "\n",
      "Passageiros sem veículo:\n",
      "\t {'R1': [['P14']]} \n",
      "\n"
     ]
    }
   ],
   "source": [
    "def get_variables(participants, rota_max):\n",
    "    variablesRota = []\n",
    "    variablesPassanger = []\n",
    "    variablesVehicle = []\n",
    "    vehicle_capacities = []\n",
    "    domains = {}\n",
    "    solution = []\n",
    "    \n",
    "    for p, participant in enumerate(participants):    \n",
    "        if participant[\"capacity\"] >= 1:\n",
    "            cap = participant[\"capacity\"]\n",
    "            vehicle_capacities.append(f\"P{p+1}C{cap}\")\n",
    "   \n",
    "    for x, rota in enumerate(rota_max):\n",
    "        variablesRota.append(f\"R{x+1}\")\n",
    "        domains[f\"R{x+1}\"] = []\n",
    "            \n",
    "        for i, participant in enumerate(participants):\n",
    "            variablesPassanger.append(f\"P{i+1}\")\n",
    "            if rota == participant[\"zone\"]:\n",
    "                domains[f\"R{x+1}\"].append(f\"P{i+1}\")\n",
    "                if participant[\"vehicle\"] == 'Y':\n",
    "                    solution.append(f\"R{x+1}V{i+1}\")\n",
    "                    variablesVehicle.append(f\"V{i+1}\")\n",
    "    return variablesRota, variablesPassanger, variablesVehicle, domains, solution\n",
    "\n",
    "def get_constraints(solution, domains):\n",
    "    carCapaity = {}\n",
    "    passageirosSemVeiculo = {}\n",
    "    qtyPass = []\n",
    "    dPass = []\n",
    "       \n",
    "    for d in domains:    \n",
    "        x = len(domains[d])\n",
    "        qtyPass.append(x)\n",
    "        dPass.append(d)\n",
    "        \n",
    "    for s, sol in enumerate(solution):\n",
    "        qty = qtyPass[s]\n",
    "        dom = dPass[s]\n",
    "        keySolution, valueSolution = list(domains.items())[s]\n",
    "        if qty > 0 and qty <= 5:\n",
    "            if dom == keySolution:\n",
    "                carCapaity[sol] = []\n",
    "                carCapaity[sol].append(valueSolution)\n",
    "        else: \n",
    "            carCapaity[sol] = []\n",
    "            firstFive = valueSolution[0:5]\n",
    "            carCapaity[sol].append(firstFive)\n",
    "            ocup = valueSolution[5:qty]\n",
    "            passageirosSemVeiculo[keySolution] = []\n",
    "            passageirosSemVeiculo[keySolution].append(ocup)\n",
    "    \n",
    "    return passageirosSemVeiculo, carCapaity\n",
    "\n",
    "def solve(participants, rota_max):\n",
    "    variablesRota, variablesPassanger, variablesVehicle, domains, solution = get_variables(participants, rota_max)\n",
    "    passageirosSemVeiculo, carCapaity = get_constraints(solution, domains)\n",
    "    print(\"\\nVariáveis:\")\n",
    "    print(\"\\tRota\",variablesRota)\n",
    "    print(\"\\tPassageiros\",variablesPassanger)\n",
    "    print(\"\\tVeículos\",variablesVehicle)\n",
    "    print(\"--------------------------------------------------\")\n",
    "    print(\"\\nPassageiros por Rota:\")\n",
    "    print(\"\\t\",domains)\n",
    "    print(\"--------------------------------------------------\")\n",
    "    print(\"\\nSolução:\")\n",
    "    print(\"\\t\",carCapaity)\n",
    "    print(\"--------------------------------------------------\")\n",
    "    print(\"\\nPassageiros sem veículo:\")\n",
    "    print(\"\\t\",passageirosSemVeiculo,\"\\n\")\n",
    "    \n",
    "\n",
    "solve(participants, rota_max)"
   ]
  },
  {
   "attachments": {},
   "cell_type": "markdown",
   "metadata": {},
   "source": [
    "# "
   ]
  }
 ],
 "metadata": {
  "kernelspec": {
   "display_name": "Python 3.11.0 64-bit",
   "language": "python",
   "name": "python3"
  },
  "language_info": {
   "codemirror_mode": {
    "name": "ipython",
    "version": 3
   },
   "file_extension": ".py",
   "mimetype": "text/x-python",
   "name": "python",
   "nbconvert_exporter": "python",
   "pygments_lexer": "ipython3",
   "version": "3.11.0"
  },
  "orig_nbformat": 4,
  "vscode": {
   "interpreter": {
    "hash": "693676c795e0dce623c8801847e65a71377e2f5b412edd1dbce8d35b1da40476"
   }
  }
 },
 "nbformat": 4,
 "nbformat_minor": 2
}
